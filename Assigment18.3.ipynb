{
 "cells": [
  {
   "cell_type": "code",
   "execution_count": null,
   "metadata": {},
   "outputs": [],
   "source": [
    "Z = X - M(mu)/SD \n",
    "Z = (1100-1026)/209\n",
    "Z = 0.35\n",
    "\n",
    "p-value correponding to z-score 0.35 = 0.1368\n",
    "\n",
    "p-value = 0.5000 + 0.1368 = 0.6368 (63.68 %)\n",
    "\n",
    "Results :\n",
    "I did the SAT test better than the 63.38% of the other students\n"
   ]
  }
 ],
 "metadata": {
  "kernelspec": {
   "display_name": "Python 3",
   "language": "python",
   "name": "python3"
  },
  "language_info": {
   "codemirror_mode": {
    "name": "ipython",
    "version": 3
   },
   "file_extension": ".py",
   "mimetype": "text/x-python",
   "name": "python",
   "nbconvert_exporter": "python",
   "pygments_lexer": "ipython3",
   "version": "3.6.4"
  }
 },
 "nbformat": 4,
 "nbformat_minor": 2
}
